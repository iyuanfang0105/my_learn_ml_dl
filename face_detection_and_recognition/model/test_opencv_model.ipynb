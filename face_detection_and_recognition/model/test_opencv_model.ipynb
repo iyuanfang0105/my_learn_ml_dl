{
 "cells": [
  {
   "cell_type": "code",
   "execution_count": 1,
   "metadata": {},
   "outputs": [],
   "source": [
    "import cv2\n",
    "import matplotlib.pyplot as plt\n",
    "%matplotlib inline"
   ]
  },
  {
   "cell_type": "code",
   "execution_count": 3,
   "metadata": {},
   "outputs": [],
   "source": [
    "DNN = \"TF\"\n",
    "if DNN == \"CAFFE\":\n",
    "    modelFile = \"Opencv-DNN-Shot-Multibox-Detector/res10_300x300_ssd_iter_140000_fp16.caffemodel\"\n",
    "    configFile = \"Opencv-DNN-Shot-Multibox-Detector/deploy.prototxt\"\n",
    "    net = cv2.dnn.readNetFromCaffe(configFile, modelFile)\n",
    "else:\n",
    "    modelFile = \"Opencv-DNN-Shot-Multibox-Detector/opencv_face_detector_uint8.pb\"\n",
    "    configFile = \"Opencv-DNN-Shot-Multibox-Detector/opencv_face_detector.pbtxt\"\n",
    "    net = cv2.dnn.readNetFromTensorflow(modelFile, configFile)"
   ]
  },
  {
   "cell_type": "code",
   "execution_count": 7,
   "metadata": {},
   "outputs": [],
   "source": [
    "test_img_path = '../imgs/test.jpg'\n",
    "img = cv2.imread(test_img_path)\n",
    "blob = cv2.dnn.blobFromImage(img, 1.0, (300, 300), [104, 117, 123], False, False)"
   ]
  },
  {
   "cell_type": "code",
   "execution_count": 8,
   "metadata": {},
   "outputs": [
    {
     "name": "stdout",
     "output_type": "stream",
     "text": [
      "0.05883216857910156\n"
     ]
    }
   ],
   "source": [
    "import time\n",
    "net.setInput(blob)\n",
    "start=time.time()\n",
    "detections = net.forward()\n",
    "end=time.time()\n",
    "print(end-start)"
   ]
  },
  {
   "cell_type": "code",
   "execution_count": 10,
   "metadata": {},
   "outputs": [
    {
     "data": {
      "text/plain": [
       "(1, 1, 51, 7)"
      ]
     },
     "execution_count": 10,
     "metadata": {},
     "output_type": "execute_result"
    }
   ],
   "source": [
    "detections.shape"
   ]
  },
  {
   "cell_type": "code",
   "execution_count": null,
   "metadata": {},
   "outputs": [],
   "source": []
  }
 ],
 "metadata": {
  "kernelspec": {
   "display_name": "my_tf_py3",
   "language": "python",
   "name": "my_tf_py3"
  },
  "language_info": {
   "codemirror_mode": {
    "name": "ipython",
    "version": 3
   },
   "file_extension": ".py",
   "mimetype": "text/x-python",
   "name": "python",
   "nbconvert_exporter": "python",
   "pygments_lexer": "ipython3",
   "version": "3.7.2"
  }
 },
 "nbformat": 4,
 "nbformat_minor": 2
}
